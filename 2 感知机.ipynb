{
 "cells": [
  {
   "attachments": {},
   "cell_type": "markdown",
   "metadata": {},
   "source": [
    "本笔记的作用在于思考与输出，和代码练习"
   ]
  },
  {
   "attachments": {},
   "cell_type": "markdown",
   "metadata": {},
   "source": [
    "# 2.1感知机是什么\n",
    "感知机是作为神经网络的起源的算法，它接受多个信号作为输入，然后输出一个结果信号。感知机中的一个圆圈称为一个“神经元”或“节点”，有向箭头和上面的数字代表信号传递方向和权重，多个信号向同一个神经元传递时会被加和，当这个和超过一个限度（阈值）时，神经元才会输出1，也被称为“神经元被激活”。  \n",
    "\n",
    "权重控制着信号的重要性（强度）。一个有两个输入信号的单层感知机可以用下式来表示：\n",
    "    \n",
    "$$ y = \\begin{cases}0, & (w_1x_1+w_2x_2 < \\theta)\\\\ \n",
    "    1, & (w_1x_1+w_2x_2 >= \\theta)\\end{cases} $$     \n",
    "\n",
    "\n"
   ]
  },
  {
   "attachments": {},
   "cell_type": "markdown",
   "metadata": {},
   "source": [
    "# 2.3 感知机的实现\n",
    "## 2.3.1 感知机的简单实现\n",
    "我们通过认为确定感知机参数来简单实现一个逻辑电路中的与门（代码在下面）。\n",
    "    \n",
    "我们目前是人为确定感知的参数，而机器学习和深度学习的研究课题是让计算机确定参数。计算机**学习**的过程就是选择合适的参数的过程，研究员要做的就是确定模型的结构，以及把训练数据交给计算机。\n",
    "## 2.3.2 引入偏置项\n",
    "我们引入偏置b，当计算好权重与信号的乘积的和之后，我们再加上偏置，当最后的结果小于等于0时，神经元不被激活，大于0时，被激活。例如下面代码中的OR函数。**权重决定输入信号的重要性，偏置决定了神经元被激活的容易程度。**\n",
    "    \n",
    "补充：在深度学习模型中，我们经常要进行数组和矩阵的计算，NumPy外部库中的array类为我们提供了许多便捷的方法。\n",
    "    "
   ]
  },
  {
   "cell_type": "code",
   "execution_count": 1,
   "metadata": {},
   "outputs": [
    {
     "name": "stdout",
     "output_type": "stream",
     "text": [
      "0 0 0 1\n",
      "0 1 1 1\n"
     ]
    }
   ],
   "source": [
    "import numpy as np\n",
    "\n",
    "\n",
    "def AND(a, b):\n",
    "    w1, w2, theta = 0.5, 0.5, 0.8\n",
    "    temp = w1*a+w2*b\n",
    "    if temp <= theta:\n",
    "        return 0\n",
    "    else:\n",
    "        return 1\n",
    "    \n",
    "def OR(x1, x2):\n",
    "    arg = np.array([x1, x2])\n",
    "    w = np.array([0.5, 0.5])\n",
    "    b = -0.1\n",
    "    temp = np.sum(arg*w)+b\n",
    "    if temp <= 0:\n",
    "        return 0\n",
    "    else:\n",
    "        return 1\n",
    "\n",
    "print(AND(0,0), AND(1,0), AND(0,1),AND(1,1))\n",
    "print(OR(0,0), OR(1,0), OR(0,1), OR(1,1))\n"
   ]
  },
  {
   "attachments": {},
   "cell_type": "markdown",
   "metadata": {},
   "source": [
    "# 2.4 感知机的局限性\n",
    "感知机的局限性在于它只能表示由一条直线分割的空间，例如使用单层感知机便无法分割逻辑电路异或门的空间。（准确来说这是单层感知机的局限性）"
   ]
  },
  {
   "attachments": {},
   "cell_type": "markdown",
   "metadata": {},
   "source": [
    "# 2.5 多层感知机\n",
    "感知机的绝妙之处在于它可以**叠加层/加深层**，感知机经过叠加后可以具有更多的表示，能够表示非线性的表示。\n",
    "\n",
    "多层感知机从左往右分别为第0层，第1层，第2层，...。有人根据实际具有权重的层数来判定是几层感知机，也有人根据实际的神经元层数来判定是几层感知机。\n",
    "\n",
    "多层感知机甚至可以构造计算机，有理论证明：激活函数使用了sigmoid函数的2层感知机可以表示任意函数。（虽然2层感知机的参数在实际中会非常难以确定）"
   ]
  }
 ],
 "metadata": {
  "kernelspec": {
   "display_name": "Python 3",
   "language": "python",
   "name": "python3"
  },
  "language_info": {
   "codemirror_mode": {
    "name": "ipython",
    "version": 3
   },
   "file_extension": ".py",
   "mimetype": "text/x-python",
   "name": "python",
   "nbconvert_exporter": "python",
   "pygments_lexer": "ipython3",
   "version": "3.10.11"
  },
  "orig_nbformat": 4
 },
 "nbformat": 4,
 "nbformat_minor": 2
}
