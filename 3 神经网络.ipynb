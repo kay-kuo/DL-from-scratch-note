{
 "cells": [
  {
   "attachments": {},
   "cell_type": "markdown",
   "metadata": {},
   "source": [
    "多层感知机的优点在于它几乎可以进行任何复杂的处理，但是缺点在于认为确定感知机的合适的、复合预期的参数的过程是非常复杂的，神经网络的出现就是为了解决这个问题，因为神经网络有一个重要的性质就是它可以自动从数据中学习到合适的权重参数。"
   ]
  },
  {
   "attachments": {},
   "cell_type": "markdown",
   "metadata": {},
   "source": [
    "# 3.1 从感知机到神经网络\n",
    "## 3.1.1 神经网络的例子\n",
    "用图来表示神经网络的话，我们把最左边的一列称为输入层，最右边的一列称为输出层，中间的统一称为中间层（隐藏层）。\n",
    "## 3.1.3 激活函数登场\n",
    "激活函数将输入信号的总和转换为输出信号，激活函数的作用在于决定如何激活输入信号的总和。激活函数是感知机和神经网络的桥梁。\n",
    "\n",
    "一般而言，“朴素感知机”/“人工神经元”是指单层网络，指的是激活函数使用了阶跃函数的模型。“多层感知机”是指神经网络，即使用sigmoid函数等平滑的激活函数的多层网络。"
   ]
  },
  {
   "attachments": {},
   "cell_type": "markdown",
   "metadata": {},
   "source": [
    "# 3.2 激活函数\n",
    "## 3.2.1 阶跃函数的实现及图像绘制\n",
    "阶跃函数：阶跃函数这种激活函数以阈值为界，一旦输入超过阈值，就切换输出。下述代码通过python的代码技巧实现了一个可以支持数组的阶跃函数：\n",
    "## 3.2.2 sigmoid函数的实现及图像绘制\n",
    "sigmoid函数是神经网络中经常使用的一个函数：\n",
    "$$h(x) = \\frac{1}{1+e^{-x}}$$\n",
    "## 3.2.3 非线性函数\n",
    "## 3.2.4 ReLU函数\n",
    "在神经网络的发展历史上，sigmoid函数很早就开始使用了，而最近则主要在使用ReLU函数。ReLU函数在输入值大于0时，直接输出改值，在输入小于等于0时，则输入0。\n",
    "$$h(x) = \\begin{cases} x & (x > 0) \\\\ 0 & (x <= 0)\\end{cases}$$\n",
    "\n"
   ]
  },
  {
   "attachments": {},
   "cell_type": "markdown",
   "metadata": {},
   "source": []
  },
  {
   "cell_type": "code",
   "execution_count": 15,
   "metadata": {},
   "outputs": [
    {
     "data": {
      "image/png": "[encoded data removed]",
      "text/plain": [
       "<Figure size 640x480 with 1 Axes>"
      ]
     },
     "metadata": {},
     "output_type": "display_data"
    }
   ],
   "source": [
    "import numpy as np\n",
    "import matplotlib.pyplot as plt\n",
    "\n",
    "def step_function(x):\n",
    "    y = (x > 0)\n",
    "    return y.astype(np.int_) # numpy数组类型转换函数，参数为期望转换的类型\n",
    "\n",
    "def sigmoid(x):\n",
    "    return 1/(1+np.exp(-x))\n",
    "\n",
    "def ReLU(x):\n",
    "    return np.maximum(0,x)\n",
    "\n",
    "x = np.arange(-4.0, 4.0, 0.01)\n",
    "y = step_function(x)\n",
    "y2 = sigmoid(x)\n",
    "y3 = ReLU(x)\n",
    "plt.plot(x, y)\n",
    "plt.plot(x, y2, linestyle=\"--\")\n",
    "plt.plot(x, y3, linestyle = \"-.\")\n",
    "plt.ylim(-0.1, 1.1)\n",
    "plt.show()\n"
   ]
  },
  {
   "attachments": {},
   "cell_type": "markdown",
   "metadata": {},
   "source": [
    "# 3.4 三层神经网络的实现\n",
    "神经网络中，使用矩阵运算可以加快模型的运算效率，每两层之间的参数传递过程可以用下面的矩阵乘法表达式来标识：\n",
    "$$Y=XW+B$$\n",
    "其中，X为上一层的神经元信号，W为权重矩阵，B为偏置矩阵\n",
    "\n",
    "注意：其实除了输入层外的每一层神经元都需要激活函数,这里在引入一个激活函数：恒等函数，恒等函数会将输入原样输出"
   ]
  },
  {
   "cell_type": "code",
   "execution_count": 16,
   "metadata": {},
   "outputs": [
    {
     "name": "stdout",
     "output_type": "stream",
     "text": [
      "[0.31682708 0.69627909]\n"
     ]
    }
   ],
   "source": [
    "import numpy as np\n",
    "\n",
    "def identity_function(x):\n",
    "    return x\n",
    "\n",
    "def sigmoid(x):\n",
    "    return 1/(1+np.exp(-x))\n",
    "\n",
    "def init_network():\n",
    "    network = {}\n",
    "    network['W1'] = np.array([[0.1,0.3,0.5],[0.2,0.4,0.6]])\n",
    "    network['B1'] = np.array([0.1,0.2,0.3])\n",
    "    network['W2'] = np.array([[0.1,0.4],[0.2,0.5],[0.3,0.6]])\n",
    "    network['B2'] = np.array([0.1,0.2])\n",
    "    network['W3'] = np.array([[0.1,0.3],[0.2,0.4]])\n",
    "    network['B3'] = np.array([0.1, 0.2])\n",
    "\n",
    "    return network\n",
    "\n",
    "def forward(network, x):\n",
    "    \n",
    "    a1 = sigmoid(np.dot(x, network['W1'])+network['B1'])\n",
    "    a2 = sigmoid(np.dot(a1, network['W2'])+network['B2'])\n",
    "    a3 = identity_function(np.dot(a2, network['W3'])+network['B3'])\n",
    "\n",
    "    return a3\n",
    "\n",
    "x = np.array([1.0, 0.5])\n",
    "network = init_network()\n",
    "print(forward(network=network, x=x))"
   ]
  },
  {
   "attachments": {},
   "cell_type": "markdown",
   "metadata": {},
   "source": [
    "# 3.5 输出层的设计\n",
    "神经网络可以用来解决回归问题和分类问题，不过需要根据情况选择输出层的函数，一般来说，回归问题采用恒等函数，分类问题采用softmax函数。（输出层的激活函数用$\\sigma(x)$）表示。\n",
    "## 3.5.1 恒等函数和softmax函数\n",
    "恒等函数会将输入原样输出，而softmax函数是下列函数:\n",
    "$$y_k = \\frac{exp(a_k)}{\\sum_{i=1}^n{exp(a_i)}}$$\n",
    "## 3.5.2 在代码中实现softmax函数\n",
    "在代码的实现过程中，我们需要注意指数函数的“溢出”问题，当参数的值过大时，计算机可能无法计算指数的结果，因此我们需要使用数学原理来减轻计算的负担：\n",
    "$$y_k = \\frac{e^{a_k}}{\\sum_{i=1}^n{e^(a_i)}} =\\frac{C e^{a_k}}{C \\sum_{i=1}^n{e^(a_i)}} = \\frac{e^{a_k+logC}}{\\sum_{i=1}^n{e^(a_i+logC)}} =\\frac{e^{a_k+C}}{\\sum_{i=1}^n{e^(a_i+C)}}$$\n",
    "公式中的常数C我们一般会选择数组中的最大值。\n",
    "类似的，我们可以选择同样的方式处理sigmoid函数的溢出，\n",
    "$$ \\frac{1}{1+e^{-x}} = \\frac{C}{C+e^{-x+logC}}$$\n",
    "## 3.5.3 softmax函数的性质\n",
    "softmax函数的输出总是0到1之间的实数，并且这些实数的和为1，因此我们可以把softmax函数的输出认为是“概率”，一般神经网路也会把输出值最大的神经元所对应的类别作为识别类别。\n",
    "\n",
    "同时softmax函数的输出不改变原来的各个元素之间的大小关系，因此在实际过程中，输出层的softmax函数可以省略。\n",
    "\n",
    "**注意：机器学习的过程可以分类两个过程：“学习”和“推理”，在学习的过程中，模型会根据输入的数据集进行参数的学习，然后推理时，使用模型对未知的数据进行推理（分类）。**"
   ]
  },
  {
   "cell_type": "code",
   "execution_count": 17,
   "metadata": {},
   "outputs": [
    {
     "name": "stdout",
     "output_type": "stream",
     "text": [
      "[2.12078996e-04 5.76490482e-04 1.56706360e-03 4.25972051e-03\n",
      " 1.15791209e-02 3.14753138e-02 8.55587737e-02 2.32572860e-01\n",
      " 6.32198578e-01]\n"
     ]
    }
   ],
   "source": [
    "import numpy as np\n",
    "\n",
    "def softmax(a):\n",
    "    C = np.max(a)\n",
    "    sum = np.sum(np.exp(a-C)) # fix overflow\n",
    "    return np.exp(a-C)/sum\n",
    "\n",
    "a = np.arange(1,10,1)\n",
    "print(softmax(a))"
   ]
  },
  {
   "attachments": {},
   "cell_type": "markdown",
   "metadata": {},
   "source": [
    "# 3.6 MNIST手写数字数据集的识别\n",
    "## 3.6.1 MNIST数据集预处理\n",
    "load_mnist()函数中有一个参数是normalize，来确定是否要*正规化（normalization）*，**正规化是把数据限定到某个范围内的处理**，对数据进行某种既定的转换称为数据额预处理(pre-processing)\n",
    "## 3.6.2 神经网络的推理\n",
    "## 3.6.3 批处理\n",
    "以批为单位，进行推理处理，能够实现更高速的运算。因为大多数处理数值计算的库都进行了能够高效处理大型数组运算的最优化，也就是说批处理一次性计算大型数组要比分开逐步计算各个小型数组速度更快。\n",
    "\n",
    "没有使用批处理前，运行时间为5.4s，使用批处理后运行时间为3.6s\n"
   ]
  },
  {
   "cell_type": "code",
   "execution_count": 18,
   "metadata": {},
   "outputs": [
    {
     "name": "stdout",
     "output_type": "stream",
     "text": [
      "Accuracy:0.9207\n"
     ]
    }
   ],
   "source": [
    "from dataset.mnist import load_mnist\n",
    "import sys, os\n",
    "import numpy as np\n",
    "from PIL import Image\n",
    "import pickle\n",
    "\n",
    "sys.path.append(os.pardir)\n",
    "\n",
    "def sigmoid(x):\n",
    "    y = []\n",
    "    k = -1\n",
    "    for i in x:\n",
    "        y.append([])\n",
    "        k+=1\n",
    "        for j in i:\n",
    "            if j < 0:\n",
    "                y[k].append(np.exp(j)/(1+np.exp(j)))\n",
    "            else:\n",
    "                y[k].append(1/(1+np.exp(-j)))\n",
    "\n",
    "    return np.array(y)\n",
    "    \n",
    "def softmax(a):\n",
    "    C = np.max(a)\n",
    "    sum = np.sum(np.exp(a-C)) # fix overflow\n",
    "    return np.exp(a-C)/sum\n",
    "\n",
    "def img_show(img):\n",
    "    pil_img = Image.fromarray(np.uint8(img))\n",
    "    pil_img.show()\n",
    "\n",
    "def get_data():\n",
    "    (x_train, t_train),(x_test, t_test) = load_mnist(flatten=True, normalize=False)\n",
    "    return x_test, t_test\n",
    "\n",
    "def init_network():\n",
    "    with open(\"./ch03/sample_weight.pkl\",\"rb\") as f:\n",
    "        network = pickle.load(f)\n",
    "    return network\n",
    "\n",
    "def predict(network, x):\n",
    "    a1 = sigmoid(np.dot(x, network['W1'])+network['b1'])\n",
    "    a2 = sigmoid(np.dot(a1, network['W2'])+network['b2'])\n",
    "    a3 = softmax(np.dot(a2, network['W3'])+network['b3'])\n",
    "\n",
    "    return a3\n",
    "\n",
    "accuracy = 0\n",
    "batch_size = 100\n",
    "\n",
    "network = init_network()\n",
    "(x_test, t_test) = get_data()\n",
    "for i in range(0, len(x_test), batch_size):\n",
    "    result = np.argmax(predict(network, x_test[i:i+batch_size]), axis=1)\n",
    "    accuracy += np.sum(result == t_test[i:i+batch_size])\n",
    "\n",
    "print(\"Accuracy:\"+str(float(accuracy/len(x_test))))\n",
    "\n"
   ]
  }
 ],
 "metadata": {
  "kernelspec": {
   "display_name": "Python 3",
   "language": "python",
   "name": "python3"
  },
  "language_info": {
   "codemirror_mode": {
    "name": "ipython",
    "version": 3
   },
   "file_extension": ".py",
   "mimetype": "text/x-python",
   "name": "python",
   "nbconvert_exporter": "python",
   "pygments_lexer": "ipython3",
   "version": "3.10.11"
  },
  "orig_nbformat": 4
 },
 "nbformat": 4,
 "nbformat_minor": 2
}
